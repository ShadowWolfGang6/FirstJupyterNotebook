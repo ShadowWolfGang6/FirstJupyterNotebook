{
 "cells": [
  {
   "cell_type": "markdown",
   "id": "17da1db6-94fb-44c8-aa39-bb7c71cd8200",
   "metadata": {
    "tags": []
   },
   "source": [
    "# Data Science Tools and Ecosystem"
   ]
  },
  {
   "cell_type": "markdown",
   "id": "ca5b0383-adc1-46fc-b551-0d0e92d75a14",
   "metadata": {},
   "source": [
    "#### In this notebook, Data Science Tools and Ecosystem are summarized."
   ]
  },
  {
   "cell_type": "markdown",
   "id": "cb977674-6321-4fc8-a2d6-d8d0765dee12",
   "metadata": {
    "tags": []
   },
   "source": [
    "#### Some of the popular languages that Data Scientists use are:"
   ]
  },
  {
   "cell_type": "markdown",
   "id": "f3af5125-2a48-4037-bf78-d54679a81efd",
   "metadata": {},
   "source": [
    "1. Python\n",
    "2. R\n",
    "3. SQL"
   ]
  },
  {
   "cell_type": "markdown",
   "id": "26b41be8-ca07-43a5-b178-3b8465ef407c",
   "metadata": {},
   "source": [
    "#### Some of the commonly used libraries used by Data Scientists include:\n",
    "\n",
    "1. Pandas (Python library - Used for Data structures and tools)\n",
    "2. Matplotlib (Python library - For visualizing plots & graphs)\n",
    "3. ggplot2 (R library - Used for data visualization)\n",
    "4. Keras (Python library - Deep Learning Neural Networks)\n",
    "5. Big DL (Scala library - Deep Learning)"
   ]
  },
  {
   "cell_type": "markdown",
   "id": "1880a098-3b06-47fe-bb16-5212e9feb4c1",
   "metadata": {},
   "source": [
    "| Data Science Tools |   \n",
    "|:------------------:| \n",
    "| Jupyter|\n",
    "|Rstudio|\n",
    "|Spyder|"
   ]
  },
  {
   "cell_type": "markdown",
   "id": "66fee538-bc58-4a26-a683-e3a61c18b41e",
   "metadata": {},
   "source": [
    "### Below are a few examples of evaluating arithmetic expressions in Python."
   ]
  },
  {
   "cell_type": "code",
   "execution_count": 1,
   "id": "209e8b4f-f232-4658-bfc6-ae48ec296819",
   "metadata": {
    "tags": []
   },
   "outputs": [
    {
     "data": {
      "text/plain": [
       "17"
      ]
     },
     "execution_count": 1,
     "metadata": {},
     "output_type": "execute_result"
    }
   ],
   "source": [
    "# This is a simple arithmetic operation to multiply then add integers\n",
    "(3*4) + 5"
   ]
  },
  {
   "cell_type": "code",
   "execution_count": 3,
   "id": "d111ec12-2566-4f87-bb11-0e23e32254c2",
   "metadata": {
    "tags": []
   },
   "outputs": [
    {
     "name": "stdout",
     "output_type": "stream",
     "text": [
      "3.3333333333333335\n"
     ]
    }
   ],
   "source": [
    "# This will convert 200 minutes to hours\n",
    "mins = 200\n",
    "hours = mins/60\n",
    "print(hours)"
   ]
  },
  {
   "cell_type": "markdown",
   "id": "cd5a2346-2acc-4f8b-8871-bb7ab34dc434",
   "metadata": {},
   "source": [
    "__Objectives:__\n",
    "- List popular languages for Data Science\n",
    "- List common libraries for Data Science\n",
    "- List common Data Science tools\n",
    "- Evaluate arithmetic expressions in Python"
   ]
  },
  {
   "cell_type": "markdown",
   "id": "8fdd003a-8e0d-4187-9f16-6732c59f84fa",
   "metadata": {},
   "source": [
    "## Author\n",
    "Saihaan Selim"
   ]
  }
 ],
 "metadata": {
  "kernelspec": {
   "display_name": "Python",
   "language": "python",
   "name": "conda-env-python-py"
  },
  "language_info": {
   "codemirror_mode": {
    "name": "ipython",
    "version": 3
   },
   "file_extension": ".py",
   "mimetype": "text/x-python",
   "name": "python",
   "nbconvert_exporter": "python",
   "pygments_lexer": "ipython3",
   "version": "3.7.12"
  }
 },
 "nbformat": 4,
 "nbformat_minor": 5
}
